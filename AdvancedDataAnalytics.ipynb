{
 "cells": [
  {
   "cell_type": "markdown",
   "id": "3058ff88-01d5-426d-9f57-6f5eb8c94a89",
   "metadata": {},
   "source": [
    "# Necessary Imports"
   ]
  },
  {
   "cell_type": "code",
   "execution_count": 1,
   "id": "7af7b4fc-6af7-4f55-b336-c7294f02aee0",
   "metadata": {},
   "outputs": [
    {
     "name": "stderr",
     "output_type": "stream",
     "text": [
      "[nltk_data] Downloading package punkt to\n",
      "[nltk_data]     C:\\Users\\mikec\\AppData\\Roaming\\nltk_data...\n",
      "[nltk_data]   Package punkt is already up-to-date!\n"
     ]
    },
    {
     "data": {
      "text/plain": [
       "True"
      ]
     },
     "execution_count": 1,
     "metadata": {},
     "output_type": "execute_result"
    }
   ],
   "source": [
    "from bs4 import BeautifulSoup\n",
    "import pandas as pd\n",
    "import numpy as np\n",
    "import seaborn as sns\n",
    "import matplotlib.pyplot as plt\n",
    "import string\n",
    "import contractions\n",
    "import re\n",
    "from sklearn.feature_extraction.text import TfidfVectorizer\n",
    "from sklearn.model_selection import train_test_split\n",
    "from sklearn.naive_bayes import MultinomialNB\n",
    "from sklearn.metrics import accuracy_score, confusion_matrix, classification_report\n",
    "from collections import Counter\n",
    "import gensim\n",
    "from gensim.models import Word2Vec\n",
    "from nltk.tokenize import word_tokenize\n",
    "from nltk.corpus import stopwords\n",
    "import nltk\n",
    "from tensorflow.keras.preprocessing.sequence import pad_sequences\n",
    "#comment this out if it's already installed\n",
    "nltk.download(\"punkt\")"
   ]
  },
  {
   "cell_type": "markdown",
   "id": "05439be9-2a6d-4c08-8537-381c1d8eaaf2",
   "metadata": {},
   "source": [
    "# Loading the dataset"
   ]
  },
  {
   "cell_type": "code",
   "execution_count": 2,
   "id": "ce69f964-c5d3-4104-bf1c-177e5e6be350",
   "metadata": {},
   "outputs": [],
   "source": [
    "imdb_reviews = pd.read_csv(r\"C:\\Users\\mikec\\OneDrive\\Data\\Advanced Analytics\\IMDB Dataset.csv\") #path to your local file"
   ]
  },
  {
   "cell_type": "code",
   "execution_count": 3,
   "id": "6e54a87f-6e8b-4a89-9530-e51b5cbc5429",
   "metadata": {
    "scrolled": true
   },
   "outputs": [
    {
     "data": {
      "image/png": "[encoded data removed]",
      "text/plain": [
       "<Figure size 640x480 with 1 Axes>"
      ]
     },
     "metadata": {},
     "output_type": "display_data"
    }
   ],
   "source": [
    "sns.countplot(x=imdb_reviews['sentiment'], data = imdb_reviews)\n",
    "plt.title(\"Number of reviews per sentiment\")\n",
    "plt.show()"
   ]
  },
  {
   "cell_type": "markdown",
   "id": "73167af3-009b-4bd8-9a70-1e1f0afd236b",
   "metadata": {},
   "source": [
    "# **Model 1: TF-IDF features with Naive-Bayes classifier**"
   ]
  },
  {
   "cell_type": "markdown",
   "id": "3a92e78b-a1e9-4fc5-9069-741b711fdffd",
   "metadata": {},
   "source": [
    "## Preprocessing the datata"
   ]
  },
  {
   "cell_type": "code",
   "execution_count": 4,
   "id": "6294ab1b-d034-4dab-9e59-dc6e7f4601dc",
   "metadata": {},
   "outputs": [],
   "source": [
    "def data_preprocess_simple(paragraph):\n",
    "    #remove html tags\n",
    "    soup = BeautifulSoup(paragraph, \"html.parser\")\n",
    "    clean_text = soup.get_text()\n",
    "    #expands contractions(e.g. it's->it is)\n",
    "    clean_text = contractions.fix(clean_text)\n",
    "    #remove punctuation marks\n",
    "    clean_text = clean_text.translate(str.maketrans(string.punctuation, \" \" * len(string.punctuation)))\n",
    "    #convert text to lowercase\n",
    "    clean_text = clean_text.lower()\n",
    "    #remove any double whitespaces\n",
    "    clean_text = re.sub(r'\\s+', ' ',clean_text)\n",
    "    #remove singular characters(not i and a as they can add context)\n",
    "    clean_text = re.sub(r'(?<!\\S)(?!i |a\\b).\\b(?!\\S)', '', clean_text)\n",
    "    return clean_text"
   ]
  },
  {
   "cell_type": "code",
   "execution_count": 5,
   "id": "9c618cf7-33d8-4e95-9dd6-7430b285e28c",
   "metadata": {},
   "outputs": [
    {
     "name": "stderr",
     "output_type": "stream",
     "text": [
      "C:\\Users\\mikec\\AppData\\Local\\Temp\\ipykernel_14128\\192526704.py:3: MarkupResemblesLocatorWarning: The input looks more like a filename than markup. You may want to open this file and pass the filehandle into Beautiful Soup.\n",
      "  soup = BeautifulSoup(paragraph, \"html.parser\")\n"
     ]
    }
   ],
   "source": [
    "#apply the preprocess to each review \n",
    "imdb_reviews['review'] = imdb_reviews['review'].apply(data_preprocess_simple)"
   ]
  },
  {
   "cell_type": "code",
   "execution_count": 6,
   "id": "87d63bad-50fd-4cdd-842c-0aa416496c22",
   "metadata": {},
   "outputs": [
    {
     "data": {
      "text/html": [
       "<div>\n",
       "<style scoped>\n",
       "    .dataframe tbody tr th:only-of-type {\n",
       "        vertical-align: middle;\n",
       "    }\n",
       "\n",
       "    .dataframe tbody tr th {\n",
       "        vertical-align: top;\n",
       "    }\n",
       "\n",
       "    .dataframe thead th {\n",
       "        text-align: right;\n",
       "    }\n",
       "</style>\n",
       "<table border=\"1\" class=\"dataframe\">\n",
       "  <thead>\n",
       "    <tr style=\"text-align: right;\">\n",
       "      <th></th>\n",
       "      <th>review</th>\n",
       "      <th>sentiment</th>\n",
       "    </tr>\n",
       "  </thead>\n",
       "  <tbody>\n",
       "    <tr>\n",
       "      <th>0</th>\n",
       "      <td>one of the other reviewers has mentioned that ...</td>\n",
       "      <td>1</td>\n",
       "    </tr>\n",
       "    <tr>\n",
       "      <th>1</th>\n",
       "      <td>a wonderful little production the filming tech...</td>\n",
       "      <td>1</td>\n",
       "    </tr>\n",
       "    <tr>\n",
       "      <th>2</th>\n",
       "      <td>i thought this was a wonderful way to spend ti...</td>\n",
       "      <td>1</td>\n",
       "    </tr>\n",
       "    <tr>\n",
       "      <th>3</th>\n",
       "      <td>basically there is a family where a little boy...</td>\n",
       "      <td>0</td>\n",
       "    </tr>\n",
       "    <tr>\n",
       "      <th>4</th>\n",
       "      <td>petter mattei  love in the time of money is a ...</td>\n",
       "      <td>1</td>\n",
       "    </tr>\n",
       "    <tr>\n",
       "      <th>...</th>\n",
       "      <td>...</td>\n",
       "      <td>...</td>\n",
       "    </tr>\n",
       "    <tr>\n",
       "      <th>49995</th>\n",
       "      <td>i thought this movie did a down right good job...</td>\n",
       "      <td>1</td>\n",
       "    </tr>\n",
       "    <tr>\n",
       "      <th>49996</th>\n",
       "      <td>bad plot bad dialogue bad acting idiotic direc...</td>\n",
       "      <td>0</td>\n",
       "    </tr>\n",
       "    <tr>\n",
       "      <th>49997</th>\n",
       "      <td>i am a catholic taught in parochial elementary...</td>\n",
       "      <td>0</td>\n",
       "    </tr>\n",
       "    <tr>\n",
       "      <th>49998</th>\n",
       "      <td>i am going to have to disagree with the previo...</td>\n",
       "      <td>0</td>\n",
       "    </tr>\n",
       "    <tr>\n",
       "      <th>49999</th>\n",
       "      <td>no one expects the star trek movies to be high...</td>\n",
       "      <td>0</td>\n",
       "    </tr>\n",
       "  </tbody>\n",
       "</table>\n",
       "<p>50000 rows × 2 columns</p>\n",
       "</div>"
      ],
      "text/plain": [
       "                                                  review  sentiment\n",
       "0      one of the other reviewers has mentioned that ...          1\n",
       "1      a wonderful little production the filming tech...          1\n",
       "2      i thought this was a wonderful way to spend ti...          1\n",
       "3      basically there is a family where a little boy...          0\n",
       "4      petter mattei  love in the time of money is a ...          1\n",
       "...                                                  ...        ...\n",
       "49995  i thought this movie did a down right good job...          1\n",
       "49996  bad plot bad dialogue bad acting idiotic direc...          0\n",
       "49997  i am a catholic taught in parochial elementary...          0\n",
       "49998  i am going to have to disagree with the previo...          0\n",
       "49999  no one expects the star trek movies to be high...          0\n",
       "\n",
       "[50000 rows x 2 columns]"
      ]
     },
     "execution_count": 6,
     "metadata": {},
     "output_type": "execute_result"
    }
   ],
   "source": [
    "#map the labels\n",
    "imdb_reviews['sentiment'] =  imdb_reviews.sentiment.map({'positive':1, 'negative':0})\n",
    "imdb_reviews"
   ]
  },
  {
   "cell_type": "code",
   "execution_count": 7,
   "id": "ae2e6b04-f167-41a6-ace1-fa397e409dbc",
   "metadata": {},
   "outputs": [
    {
     "name": "stdout",
     "output_type": "stream",
     "text": [
      "['00' '000' '00000000000' ... 'żmijewski' 'יגאל' 'כרמון']\n",
      "The shape of tfidf matrix is: (50000, 103749)\n"
     ]
    }
   ],
   "source": [
    "#initialize TfidfVectorizer\n",
    "vectorizer = TfidfVectorizer()\n",
    "X = imdb_reviews.review\n",
    "y = imdb_reviews.sentiment\n",
    "#calculate the vocabulary of x and convert the text data into a TF-IDF matrix \n",
    "data = vectorizer.fit_transform(X)\n",
    "#print the feature names and the sparse matrix shape\n",
    "print(vectorizer.get_feature_names_out())\n",
    "print(f\"The shape of tfidf matrix is: {data.shape}\")"
   ]
  },
  {
   "cell_type": "code",
   "execution_count": 8,
   "id": "bb14b445-ddba-4c9c-acd5-6049c9df0657",
   "metadata": {},
   "outputs": [
    {
     "name": "stdout",
     "output_type": "stream",
     "text": [
      "Train:  (40000,)\n"
     ]
    }
   ],
   "source": [
    "X_train, X_test, y_train, y_test = train_test_split(data, y, test_size=0.2, random_state=2)\n",
    "print(\"Train: \", y_train.shape)"
   ]
  },
  {
   "cell_type": "markdown",
   "id": "e0766ebe-0822-4370-9079-707ba1d44f73",
   "metadata": {},
   "source": [
    "## Train the model "
   ]
  },
  {
   "cell_type": "code",
   "execution_count": 9,
   "id": "fb5ed810-292b-4555-99c1-a645d1a56541",
   "metadata": {},
   "outputs": [
    {
     "name": "stdout",
     "output_type": "stream",
     "text": [
      "CPU times: total: 31.2 ms\n",
      "Wall time: 43.5 ms\n"
     ]
    }
   ],
   "source": [
    "%%time\n",
    "#fit the data to the model \n",
    "clf = MultinomialNB().fit(X_train, y_train)"
   ]
  },
  {
   "cell_type": "markdown",
   "id": "d4349a38-21ad-4208-9117-b3d6823fd339",
   "metadata": {},
   "source": [
    "## Model accuracy and classification report "
   ]
  },
  {
   "cell_type": "code",
   "execution_count": 10,
   "id": "29f2cc39-25ca-4f0c-acf2-2c14eff08651",
   "metadata": {},
   "outputs": [
    {
     "name": "stdout",
     "output_type": "stream",
     "text": [
      "==================================\n",
      "Accuracy of the classifier: 0.864\n",
      "================================== \n",
      "\n",
      "=====================================================\n",
      "Classification Report:\n",
      "              precision    recall  f1-score   support\n",
      "\n",
      "           0       0.85      0.89      0.87      4979\n",
      "           1       0.88      0.84      0.86      5021\n",
      "\n",
      "    accuracy                           0.86     10000\n",
      "   macro avg       0.86      0.86      0.86     10000\n",
      "weighted avg       0.86      0.86      0.86     10000\n",
      "\n",
      "=====================================================\n"
     ]
    }
   ],
   "source": [
    "#predict on the unseen data\n",
    "y_pred = clf.predict(X_test)\n",
    "#store the metrics\n",
    "accuracy = accuracy_score(y_test, y_pred)\n",
    "class_report = classification_report(y_test, y_pred)\n",
    "#display results \n",
    "print(\"=\" * 34)\n",
    "print(f\"Accuracy of the classifier: {accuracy:.3f}\")\n",
    "print(\"=\" * 34 ,\"\\n\")\n",
    "print(\"=\" * 53)\n",
    "print(\"Classification Report:\")\n",
    "print(class_report)\n",
    "print(\"=\" * 53)"
   ]
  },
  {
   "cell_type": "markdown",
   "id": "eeb5bb9d-d690-415d-9636-66ee17dbc9c4",
   "metadata": {},
   "source": [
    "## False negative examples "
   ]
  },
  {
   "cell_type": "code",
   "execution_count": 11,
   "id": "d923e8ff-1ebe-43c2-b873-cf88649ae078",
   "metadata": {},
   "outputs": [
    {
     "name": "stdout",
     "output_type": "stream",
     "text": [
      "Printing 3/799 negative reviews:\n",
      "\n",
      "these are the kinds of movies i loved and still love growing up unlike big budget movies that crate huge plot holes and never acknowledge them this movie takes in all in stride and just makes something you can sit back and enjoy there was some film student earlier that complained it was not a list material but that is not the point the point of this movie is that no everyone likes huge cgi cliché filled movies there are a lot of people who like movies that are meant to just entertain you and not get as much money as they can besides its also nice to know that good old bruce is not dead yet  \n",
      "\n",
      "well first of all i am a big fanatic of horror movies but however i am pretty sick of all those damn american horror movies they are all about the same thing blood and violence it is not even creepy well it is nothin wrong with the blood and all that does not even bother me but that is not what makes a movie creepy that is why i find this movie entertaining it is fun to see a satire which is making fun of the koncept main horror usa american splatter gore movies they are not suppose to be creepy only funny that is ok but when they are suppose to be creepy it mostly gets pathetic however there are a few great american horror movies poltergeist psycho birds but in the end it is all the same thing that is why this movie came as a relief evil ed is not just a cult movie it is a classic i cannot wait untill master director anders jacobsson makes another goddamn splatter movie untill than i have to watch evil ed again and again and again but i do not care it is such an outstanding movie  \n",
      "\n",
      "if you are a traveller if there is a fire burning into your heart if you would call home every place on earth but none of them can give you enough if you are always looking for the next thing and if you believe the other part of your soul is somewhere out there see this movie and you will find out a little but wonderful piece of life sitting next to you  \n",
      "\n"
     ]
    }
   ],
   "source": [
    "import numpy as np\n",
    "#false negatives are predicted as 0, but true label is 1\n",
    "false_negatives_idx = np.where((y_test == 1) & (y_pred == 0))[0]\n",
    "#get the corresponding original indices from y_test\n",
    "false_negative_indices = y_test.index[false_negatives_idx]\n",
    "\n",
    "#get the original reviews from imdb_reviews using these indices\n",
    "false_negative_reviews = imdb_reviews.loc[false_negative_indices, 'review']\n",
    "\n",
    "sample_size = 3\n",
    "#print some false negative reviews\n",
    "print(f\"Printing {sample_size}/{len(false_negative_reviews)} negative reviews:\\n\")\n",
    "\n",
    "for review in false_negative_reviews[:sample_size]: \n",
    "    #print the text\n",
    "    print(review,\"\\n\")   "
   ]
  },
  {
   "cell_type": "markdown",
   "id": "b48c7eea-8ca4-4024-ba09-c74ed71250d2",
   "metadata": {},
   "source": [
    "## Confusion Matrix for the Naive Bayes classifier"
   ]
  },
  {
   "cell_type": "code",
   "execution_count": 12,
   "id": "524741c8-9f7d-45ba-9c30-943c08de3a10",
   "metadata": {},
   "outputs": [
    {
     "data": {
      "image/png": "[encoded data removed]",
      "text/plain": [
       "<Figure size 640x480 with 2 Axes>"
      ]
     },
     "metadata": {},
     "output_type": "display_data"
    }
   ],
   "source": [
    "from sklearn.metrics import ConfusionMatrixDisplay\n",
    "#generate the confusion matrix\n",
    "conf_matrix = confusion_matrix(y_test, y_pred)\n",
    "labels = clf.classes_\n",
    "disp = ConfusionMatrixDisplay(confusion_matrix=conf_matrix, display_labels = labels)\n",
    "disp.plot()\n",
    "plt.show()"
   ]
  },
  {
   "cell_type": "markdown",
   "id": "5ab9a7fa-149e-4d7e-af44-cd4153c0998b",
   "metadata": {},
   "source": [
    "### Function that prints the prediction based on the custom text given "
   ]
  },
  {
   "cell_type": "code",
   "execution_count": 13,
   "id": "37a295d7-6b7d-4e3a-81a5-0969adaaca55",
   "metadata": {},
   "outputs": [],
   "source": [
    "def custom_review(text):\n",
    "    text = data_preprocess_simple(text)\n",
    "    custom_tfidf = vectorizer.transform([text])  # Vectorize the text\n",
    "    #use the trained Naive Bayes model to predict sentiment\n",
    "    prediction = clf.predict(custom_tfidf)\n",
    "    #print the prediction\n",
    "    if prediction == 1:\n",
    "        print(\"This review is Positive.\")\n",
    "    else:\n",
    "        print(\"This review is Negative.\")"
   ]
  },
  {
   "cell_type": "code",
   "execution_count": 14,
   "id": "a471e782-84a4-48c5-9ff6-a89783a88f5d",
   "metadata": {},
   "outputs": [
    {
     "name": "stdout",
     "output_type": "stream",
     "text": [
      "This review is Negative.\n"
     ]
    }
   ],
   "source": [
    "custom_review(\"I did not like this movie\")"
   ]
  },
  {
   "cell_type": "markdown",
   "id": "20b804d7-fddd-45ef-b700-cdecf7e4aab9",
   "metadata": {},
   "source": [
    "# **Model 2: Word2vec with LSTM**"
   ]
  },
  {
   "cell_type": "code",
   "execution_count": 15,
   "id": "62d24a2b-427c-4c89-a3ee-e2c0665ade8e",
   "metadata": {},
   "outputs": [],
   "source": [
    "imdb_reviews = pd.read_csv(r\"C:\\Users\\mikec\\OneDrive\\Data\\Advanced Analytics\\IMDB Dataset.csv\")"
   ]
  },
  {
   "cell_type": "markdown",
   "id": "39bb4445-8ae7-45ac-b627-db6b22546d29",
   "metadata": {},
   "source": [
    "### Preprocess text and return tokens after removing most stopwords"
   ]
  },
  {
   "cell_type": "code",
   "execution_count": 16,
   "id": "3e004364-921d-4fdc-8c06-c6a83283f1b9",
   "metadata": {},
   "outputs": [],
   "source": [
    "def data_preprocess(paragraph):\n",
    "    #remove html tags\n",
    "    soup = BeautifulSoup(paragraph, \"html.parser\")\n",
    "    clean_text = soup.get_text()\n",
    "    #expands contractions(e.g. it's->it is)\n",
    "    clean_text = contractions.fix(clean_text)\n",
    "    #remove punctuation marks\n",
    "    clean_text = clean_text.translate(str.maketrans(string.punctuation, \" \" * len(string.punctuation)))\n",
    "    #convert text to lowercase\n",
    "    clean_text = clean_text.lower()\n",
    "    #remove any double whitespaces\n",
    "    clean_text = re.sub(r'\\s+', ' ',clean_text)\n",
    "    #remove singular characters(not i and a as they can add context)\n",
    "    clean_text = re.sub(r'(?<!\\S)(?!i |a\\b).\\b(?!\\S)', '', clean_text)\n",
    "     #tokenize the text\n",
    "    tokens = word_tokenize(clean_text)\n",
    "    #remove stopwords (except some we consider important )\n",
    "    important_words = {'no', 'not', 'nor'}\n",
    "    stop_words = set(stopwords.words('english')) - important_words\n",
    "    tokens = [word for word in tokens if word not in stop_words]\n",
    "    return tokens"
   ]
  },
  {
   "cell_type": "code",
   "execution_count": 17,
   "id": "12782742-299d-44be-a65b-8679715d6995",
   "metadata": {},
   "outputs": [
    {
     "name": "stderr",
     "output_type": "stream",
     "text": [
      "C:\\Users\\mikec\\AppData\\Local\\Temp\\ipykernel_14128\\3334120628.py:3: MarkupResemblesLocatorWarning: The input looks more like a filename than markup. You may want to open this file and pass the filehandle into Beautiful Soup.\n",
      "  soup = BeautifulSoup(paragraph, \"html.parser\")\n"
     ]
    }
   ],
   "source": [
    "imdb_reviews['tokens'] = imdb_reviews[\"review\"].apply(data_preprocess)"
   ]
  },
  {
   "cell_type": "code",
   "execution_count": 18,
   "id": "b374ac4e-829e-46f6-a328-58fb45ac0a52",
   "metadata": {},
   "outputs": [
    {
     "data": {
      "text/plain": [
       "['one',\n",
       " 'reviewers',\n",
       " 'mentioned',\n",
       " 'watching',\n",
       " 'oz',\n",
       " 'episode',\n",
       " 'hooked',\n",
       " 'right',\n",
       " 'exactly',\n",
       " 'happened',\n",
       " 'first',\n",
       " 'thing',\n",
       " 'struck',\n",
       " 'oz',\n",
       " 'brutality',\n",
       " 'unflinching',\n",
       " 'scenes',\n",
       " 'violence',\n",
       " 'set',\n",
       " 'right',\n",
       " 'word',\n",
       " 'go',\n",
       " 'trust',\n",
       " 'not',\n",
       " 'show',\n",
       " 'faint',\n",
       " 'hearted',\n",
       " 'timid',\n",
       " 'show',\n",
       " 'pulls',\n",
       " 'no',\n",
       " 'punches',\n",
       " 'regards',\n",
       " 'drugs',\n",
       " 'sex',\n",
       " 'violence',\n",
       " 'hardcore',\n",
       " 'classic',\n",
       " 'use',\n",
       " 'word',\n",
       " 'called',\n",
       " 'oz',\n",
       " 'nickname',\n",
       " 'given',\n",
       " 'oswald',\n",
       " 'maximum',\n",
       " 'security',\n",
       " 'state',\n",
       " 'penitentary',\n",
       " 'focuses',\n",
       " 'mainly',\n",
       " 'emerald',\n",
       " 'city',\n",
       " 'experimental',\n",
       " 'section',\n",
       " 'prison',\n",
       " 'cells',\n",
       " 'glass',\n",
       " 'fronts',\n",
       " 'face',\n",
       " 'inwards',\n",
       " 'privacy',\n",
       " 'not',\n",
       " 'high',\n",
       " 'agenda',\n",
       " 'city',\n",
       " 'home',\n",
       " 'many',\n",
       " 'aryans',\n",
       " 'muslims',\n",
       " 'gangstas',\n",
       " 'latinos',\n",
       " 'christians',\n",
       " 'italians',\n",
       " 'irish',\n",
       " 'scuffles',\n",
       " 'death',\n",
       " 'stares',\n",
       " 'dodgy',\n",
       " 'dealings',\n",
       " 'shady',\n",
       " 'agreements',\n",
       " 'never',\n",
       " 'far',\n",
       " 'away',\n",
       " 'would',\n",
       " 'say',\n",
       " 'main',\n",
       " 'appeal',\n",
       " 'show',\n",
       " 'due',\n",
       " 'fact',\n",
       " 'goes',\n",
       " 'shows',\n",
       " 'would',\n",
       " 'not',\n",
       " 'dare',\n",
       " 'forget',\n",
       " 'pretty',\n",
       " 'pictures',\n",
       " 'painted',\n",
       " 'mainstream',\n",
       " 'audiences',\n",
       " 'forget',\n",
       " 'charm',\n",
       " 'forget',\n",
       " 'romance',\n",
       " 'oz',\n",
       " 'not',\n",
       " 'mess',\n",
       " 'around',\n",
       " 'first',\n",
       " 'episode',\n",
       " 'ever',\n",
       " 'saw',\n",
       " 'struck',\n",
       " 'nasty',\n",
       " 'surreal',\n",
       " 'could',\n",
       " 'not',\n",
       " 'say',\n",
       " 'ready',\n",
       " 'watched',\n",
       " 'developed',\n",
       " 'taste',\n",
       " 'oz',\n",
       " 'got',\n",
       " 'accustomed',\n",
       " 'high',\n",
       " 'levels',\n",
       " 'graphic',\n",
       " 'violence',\n",
       " 'not',\n",
       " 'violence',\n",
       " 'injustice',\n",
       " 'crooked',\n",
       " 'guards',\n",
       " 'sold',\n",
       " 'nickel',\n",
       " 'inmates',\n",
       " 'kill',\n",
       " 'order',\n",
       " 'get',\n",
       " 'away',\n",
       " 'well',\n",
       " 'mannered',\n",
       " 'middle',\n",
       " 'class',\n",
       " 'inmates',\n",
       " 'turned',\n",
       " 'prison',\n",
       " 'bitches',\n",
       " 'due',\n",
       " 'lack',\n",
       " 'street',\n",
       " 'skills',\n",
       " 'prison',\n",
       " 'experience',\n",
       " 'watching',\n",
       " 'oz',\n",
       " 'may',\n",
       " 'become',\n",
       " 'comfortable',\n",
       " 'uncomfortable',\n",
       " 'viewing',\n",
       " 'get',\n",
       " 'touch',\n",
       " 'darker',\n",
       " 'side']"
      ]
     },
     "execution_count": 18,
     "metadata": {},
     "output_type": "execute_result"
    }
   ],
   "source": [
    "imdb_reviews[\"tokens\"][0]"
   ]
  },
  {
   "cell_type": "code",
   "execution_count": 19,
   "id": "61908038-3489-40c8-afaf-a0819c7bf023",
   "metadata": {},
   "outputs": [],
   "source": [
    "#training the word2vec model\n",
    "model = Word2Vec(sentences=imdb_reviews[\"tokens\"], vector_size=100, window=2, min_count=4, workers=4)\n",
    "#save the model to use later\n",
    "model.save(\"word2vec_imdb.model\")"
   ]
  },
  {
   "cell_type": "code",
   "execution_count": 20,
   "id": "5670d8ba-e44e-40ca-8a5d-07f106f405fa",
   "metadata": {},
   "outputs": [],
   "source": [
    "vector = model.wv[\"movie\"]  # Get the 100-dimensional vector for \"movie\"\n",
    "similar_words = model.wv.most_similar(\"movie\")  # Find words similar to \"movie\""
   ]
  },
  {
   "cell_type": "code",
   "execution_count": 21,
   "id": "9a5cab7e-a659-4659-841a-5f3158bf0282",
   "metadata": {},
   "outputs": [
    {
     "name": "stdout",
     "output_type": "stream",
     "text": [
      "Words similar to 'film': [('movie', 0.9035243988037109), ('flick', 0.6812941431999207), ('documentary', 0.6486550569534302), ('films', 0.6484357714653015), ('cinema', 0.6167618632316589)]\n"
     ]
    }
   ],
   "source": [
    "#Load the trained model\n",
    "model = Word2Vec.load(\"word2vec_imdb.model\")\n",
    "#print 5 most similar words\n",
    "similar_words = model.wv.most_similar(\"film\", topn=5)\n",
    "print(f\"Words similar to 'film': {similar_words}\")"
   ]
  },
  {
   "cell_type": "markdown",
   "id": "b7faca96-3d54-43b7-9641-9224f147f86d",
   "metadata": {},
   "source": [
    "### Store the pre-learned embeddings in a matrix"
   ]
  },
  {
   "cell_type": "code",
   "execution_count": 22,
   "id": "d6619d91-7289-4b07-977d-5512283e1d75",
   "metadata": {},
   "outputs": [],
   "source": [
    "#create word-index dictionary\n",
    "word_index = {word: i + 1 for i, word in enumerate(model.wv.index_to_key)}\n",
    "\n",
    "#create embedding matrix\n",
    "embedding_dim = 100\n",
    "embedding_matrix = np.zeros((len(word_index) + 1, embedding_dim))\n",
    "\n",
    "for word, i in word_index.items():\n",
    "    embedding_matrix[i] = model.wv[word]"
   ]
  },
  {
   "cell_type": "markdown",
   "id": "38cdc76f-7954-49c1-be0d-c1c63f00fe56",
   "metadata": {},
   "source": [
    "### Convert reviews into sequences(list of integers corresponding to words)"
   ]
  },
  {
   "cell_type": "code",
   "execution_count": 23,
   "id": "4d3be040-cfd9-4e9c-8579-111aac56719f",
   "metadata": {},
   "outputs": [],
   "source": [
    "#convert reviews into sequences\n",
    "sequences = [[word_index[word] for word in tokens if word in word_index] for tokens in imdb_reviews[\"tokens\"]]\n",
    "\n",
    "#pad sequences to same length\n",
    "max_length = 100  \n",
    "padded_sequences = pad_sequences(sequences, maxlen=max_length, padding=\"post\")\n",
    "\n",
    "#Convert labels to binary (1 = positive, 0 = negative)\n",
    "y = imdb_reviews[\"sentiment\"].map({\"positive\": 1, \"negative\": 0}).values"
   ]
  },
  {
   "cell_type": "markdown",
   "id": "8fc6b5ce-7979-4618-b3b2-fc807ffb194a",
   "metadata": {},
   "source": [
    "### Represent each word by the average vector and each review by a singular vector of 100 features"
   ]
  },
  {
   "cell_type": "code",
   "execution_count": 24,
   "id": "f594db73-2a01-4661-a2ea-1e8766eaa18c",
   "metadata": {},
   "outputs": [],
   "source": [
    "# Function to get the average word vector for a review\n",
    "def get_average_word2vec(tokens, model, vector_size):\n",
    "    #fetch the word vector from the model\n",
    "    vectors = [model.wv[word] for word in tokens if word in model.wv]\n",
    "    #calculate the average vector\n",
    "    if len(vectors) > 0:\n",
    "        return np.mean(vectors, axis=0) \n",
    "    else:\n",
    "        return np.zeros(vector_size)\n",
    "\n",
    "#convert all reviews to vectors\n",
    "imdb_reviews[\"word2vec_features\"] = imdb_reviews[\"tokens\"].apply(lambda x: get_average_word2vec(x, model, 100))\n",
    "\n",
    "#convert to numpy array\n",
    "X = np.vstack(imdb_reviews[\"word2vec_features\"].values)\n",
    "y = imdb_reviews[\"sentiment\"].map({\"positive\": 1, \"negative\": 0}).values "
   ]
  },
  {
   "cell_type": "code",
   "execution_count": 25,
   "id": "25fa5c8e-ddb8-4a85-ae49-b55431c0b6fd",
   "metadata": {},
   "outputs": [
    {
     "data": {
      "text/plain": [
       "0        [-0.16971695, 0.088050395, -0.11366219, -0.098...\n",
       "1        [-0.043937497, 0.2622934, -0.10029888, 0.17887...\n",
       "2        [-0.09349208, 0.26660964, -0.22031964, -0.0090...\n",
       "3        [-0.019486068, 0.24173062, 0.07851321, -0.0910...\n",
       "4        [-0.30187118, 0.20971435, 0.08313339, 0.101777...\n",
       "                               ...                        \n",
       "49995    [-0.08676772, 0.26421085, -0.0559375, 0.036651...\n",
       "49996    [-0.011401908, 0.16347972, 0.09641886, 0.14967...\n",
       "49997    [-0.13864885, 0.038528465, 0.015638143, -0.243...\n",
       "49998    [-0.16333187, 0.1355747, 0.098055854, 0.004770...\n",
       "49999    [-0.21529555, 0.2777782, 0.11501959, 0.1807905...\n",
       "Name: word2vec_features, Length: 50000, dtype: object"
      ]
     },
     "execution_count": 25,
     "metadata": {},
     "output_type": "execute_result"
    }
   ],
   "source": [
    "imdb_reviews[\"word2vec_features\"]"
   ]
  },
  {
   "cell_type": "markdown",
   "id": "88039c29-f2cb-4fff-aac6-c08da7ae2456",
   "metadata": {},
   "source": [
    "## Train_Test split"
   ]
  },
  {
   "cell_type": "code",
   "execution_count": 26,
   "id": "b79b0da5-04f1-4e7c-bcb6-e41caa730558",
   "metadata": {},
   "outputs": [],
   "source": [
    "X_train, X_test, y_train, y_test = train_test_split(padded_sequences, y, test_size=0.2, random_state=42)"
   ]
  },
  {
   "cell_type": "markdown",
   "id": "99601d1a-9644-47fa-8376-55e7a8219db1",
   "metadata": {},
   "source": [
    "## Create the RNN "
   ]
  },
  {
   "cell_type": "code",
   "execution_count": 27,
   "id": "b029e150-4a65-4201-993f-1c56dc06d08e",
   "metadata": {},
   "outputs": [
    {
     "name": "stderr",
     "output_type": "stream",
     "text": [
      "C:\\Users\\mikec\\anaconda3\\Lib\\site-packages\\keras\\src\\layers\\core\\embedding.py:90: UserWarning: Argument `input_length` is deprecated. Just remove it.\n",
      "  warnings.warn(\n"
     ]
    },
    {
     "data": {
      "text/html": [
       "<pre style=\"white-space:pre;overflow-x:auto;line-height:normal;font-family:Menlo,'DejaVu Sans Mono',consolas,'Courier New',monospace\"><span style=\"font-weight: bold\">Model: \"sequential\"</span>\n",
       "</pre>\n"
      ],
      "text/plain": [
       "\u001b[1mModel: \"sequential\"\u001b[0m\n"
      ]
     },
     "metadata": {},
     "output_type": "display_data"
    },
    {
     "data": {
      "text/html": [
       "<pre style=\"white-space:pre;overflow-x:auto;line-height:normal;font-family:Menlo,'DejaVu Sans Mono',consolas,'Courier New',monospace\">┏━━━━━━━━━━━━━━━━━━━━━━━━━━━━━━━━━━━━━━┳━━━━━━━━━━━━━━━━━━━━━━━━━━━━━┳━━━━━━━━━━━━━━━━━┓\n",
       "┃<span style=\"font-weight: bold\"> Layer (type)                         </span>┃<span style=\"font-weight: bold\"> Output Shape                </span>┃<span style=\"font-weight: bold\">         Param # </span>┃\n",
       "┡━━━━━━━━━━━━━━━━━━━━━━━━━━━━━━━━━━━━━━╇━━━━━━━━━━━━━━━━━━━━━━━━━━━━━╇━━━━━━━━━━━━━━━━━┩\n",
       "│ embedding (<span style=\"color: #0087ff; text-decoration-color: #0087ff\">Embedding</span>)                │ (<span style=\"color: #00d7ff; text-decoration-color: #00d7ff\">None</span>, <span style=\"color: #00af00; text-decoration-color: #00af00\">100</span>, <span style=\"color: #00af00; text-decoration-color: #00af00\">100</span>)            │       <span style=\"color: #00af00; text-decoration-color: #00af00\">4,407,300</span> │\n",
       "├──────────────────────────────────────┼─────────────────────────────┼─────────────────┤\n",
       "│ lstm (<span style=\"color: #0087ff; text-decoration-color: #0087ff\">LSTM</span>)                          │ (<span style=\"color: #00d7ff; text-decoration-color: #00d7ff\">None</span>, <span style=\"color: #00af00; text-decoration-color: #00af00\">100</span>, <span style=\"color: #00af00; text-decoration-color: #00af00\">128</span>)            │         <span style=\"color: #00af00; text-decoration-color: #00af00\">117,248</span> │\n",
       "├──────────────────────────────────────┼─────────────────────────────┼─────────────────┤\n",
       "│ lstm_1 (<span style=\"color: #0087ff; text-decoration-color: #0087ff\">LSTM</span>)                        │ (<span style=\"color: #00d7ff; text-decoration-color: #00d7ff\">None</span>, <span style=\"color: #00af00; text-decoration-color: #00af00\">64</span>)                  │          <span style=\"color: #00af00; text-decoration-color: #00af00\">49,408</span> │\n",
       "├──────────────────────────────────────┼─────────────────────────────┼─────────────────┤\n",
       "│ dense (<span style=\"color: #0087ff; text-decoration-color: #0087ff\">Dense</span>)                        │ (<span style=\"color: #00d7ff; text-decoration-color: #00d7ff\">None</span>, <span style=\"color: #00af00; text-decoration-color: #00af00\">32</span>)                  │           <span style=\"color: #00af00; text-decoration-color: #00af00\">2,080</span> │\n",
       "├──────────────────────────────────────┼─────────────────────────────┼─────────────────┤\n",
       "│ dense_1 (<span style=\"color: #0087ff; text-decoration-color: #0087ff\">Dense</span>)                      │ (<span style=\"color: #00d7ff; text-decoration-color: #00d7ff\">None</span>, <span style=\"color: #00af00; text-decoration-color: #00af00\">1</span>)                   │              <span style=\"color: #00af00; text-decoration-color: #00af00\">33</span> │\n",
       "└──────────────────────────────────────┴─────────────────────────────┴─────────────────┘\n",
       "</pre>\n"
      ],
      "text/plain": [
       "┏━━━━━━━━━━━━━━━━━━━━━━━━━━━━━━━━━━━━━━┳━━━━━━━━━━━━━━━━━━━━━━━━━━━━━┳━━━━━━━━━━━━━━━━━┓\n",
       "┃\u001b[1m \u001b[0m\u001b[1mLayer (type)                        \u001b[0m\u001b[1m \u001b[0m┃\u001b[1m \u001b[0m\u001b[1mOutput Shape               \u001b[0m\u001b[1m \u001b[0m┃\u001b[1m \u001b[0m\u001b[1m        Param #\u001b[0m\u001b[1m \u001b[0m┃\n",
       "┡━━━━━━━━━━━━━━━━━━━━━━━━━━━━━━━━━━━━━━╇━━━━━━━━━━━━━━━━━━━━━━━━━━━━━╇━━━━━━━━━━━━━━━━━┩\n",
       "│ embedding (\u001b[38;5;33mEmbedding\u001b[0m)                │ (\u001b[38;5;45mNone\u001b[0m, \u001b[38;5;34m100\u001b[0m, \u001b[38;5;34m100\u001b[0m)            │       \u001b[38;5;34m4,407,300\u001b[0m │\n",
       "├──────────────────────────────────────┼─────────────────────────────┼─────────────────┤\n",
       "│ lstm (\u001b[38;5;33mLSTM\u001b[0m)                          │ (\u001b[38;5;45mNone\u001b[0m, \u001b[38;5;34m100\u001b[0m, \u001b[38;5;34m128\u001b[0m)            │         \u001b[38;5;34m117,248\u001b[0m │\n",
       "├──────────────────────────────────────┼─────────────────────────────┼─────────────────┤\n",
       "│ lstm_1 (\u001b[38;5;33mLSTM\u001b[0m)                        │ (\u001b[38;5;45mNone\u001b[0m, \u001b[38;5;34m64\u001b[0m)                  │          \u001b[38;5;34m49,408\u001b[0m │\n",
       "├──────────────────────────────────────┼─────────────────────────────┼─────────────────┤\n",
       "│ dense (\u001b[38;5;33mDense\u001b[0m)                        │ (\u001b[38;5;45mNone\u001b[0m, \u001b[38;5;34m32\u001b[0m)                  │           \u001b[38;5;34m2,080\u001b[0m │\n",
       "├──────────────────────────────────────┼─────────────────────────────┼─────────────────┤\n",
       "│ dense_1 (\u001b[38;5;33mDense\u001b[0m)                      │ (\u001b[38;5;45mNone\u001b[0m, \u001b[38;5;34m1\u001b[0m)                   │              \u001b[38;5;34m33\u001b[0m │\n",
       "└──────────────────────────────────────┴─────────────────────────────┴─────────────────┘\n"
      ]
     },
     "metadata": {},
     "output_type": "display_data"
    },
    {
     "data": {
      "text/html": [
       "<pre style=\"white-space:pre;overflow-x:auto;line-height:normal;font-family:Menlo,'DejaVu Sans Mono',consolas,'Courier New',monospace\"><span style=\"font-weight: bold\"> Total params: </span><span style=\"color: #00af00; text-decoration-color: #00af00\">4,576,069</span> (17.46 MB)\n",
       "</pre>\n"
      ],
      "text/plain": [
       "\u001b[1m Total params: \u001b[0m\u001b[38;5;34m4,576,069\u001b[0m (17.46 MB)\n"
      ]
     },
     "metadata": {},
     "output_type": "display_data"
    },
    {
     "data": {
      "text/html": [
       "<pre style=\"white-space:pre;overflow-x:auto;line-height:normal;font-family:Menlo,'DejaVu Sans Mono',consolas,'Courier New',monospace\"><span style=\"font-weight: bold\"> Trainable params: </span><span style=\"color: #00af00; text-decoration-color: #00af00\">168,769</span> (659.25 KB)\n",
       "</pre>\n"
      ],
      "text/plain": [
       "\u001b[1m Trainable params: \u001b[0m\u001b[38;5;34m168,769\u001b[0m (659.25 KB)\n"
      ]
     },
     "metadata": {},
     "output_type": "display_data"
    },
    {
     "data": {
      "text/html": [
       "<pre style=\"white-space:pre;overflow-x:auto;line-height:normal;font-family:Menlo,'DejaVu Sans Mono',consolas,'Courier New',monospace\"><span style=\"font-weight: bold\"> Non-trainable params: </span><span style=\"color: #00af00; text-decoration-color: #00af00\">4,407,300</span> (16.81 MB)\n",
       "</pre>\n"
      ],
      "text/plain": [
       "\u001b[1m Non-trainable params: \u001b[0m\u001b[38;5;34m4,407,300\u001b[0m (16.81 MB)\n"
      ]
     },
     "metadata": {},
     "output_type": "display_data"
    }
   ],
   "source": [
    "from tensorflow.keras.preprocessing.sequence import pad_sequences\n",
    "from tensorflow.keras.utils import to_categorical\n",
    "from tensorflow.keras.layers import LSTM, Embedding, Dense\n",
    "from tensorflow.keras import layers, models\n",
    "from tensorflow.keras.models import Sequential\n",
    "voc_size=63015\n",
    "model = Sequential()\n",
    "\n",
    "#define the Embedding layer\n",
    "model.add(Embedding(input_dim=44073 , \n",
    "                    output_dim=100,         \n",
    "                    input_length=100, \n",
    "                    weights=[embedding_matrix],\n",
    "                    trainable=False))       \n",
    "\n",
    "#add the rest of the layers \n",
    "model.add(LSTM(128, return_sequences=True))\n",
    "model.add(LSTM(64))\n",
    "model.add(Dense(32, activation=\"relu\"))\n",
    "model.add(Dense(1, activation=\"sigmoid\"))\n",
    "\n",
    "#compile the model\n",
    "model.compile(loss=\"binary_crossentropy\", optimizer=\"adam\", metrics=[\"accuracy\"])\n",
    "\n",
    "model.build((None, 100))\n",
    "#Print model summary\n",
    "model.summary()"
   ]
  },
  {
   "cell_type": "markdown",
   "id": "fa6fedc2-a647-4618-9166-3b1eaa71a51c",
   "metadata": {},
   "source": [
    "## Train the neural network and plot the epoch-validation accuracy plot"
   ]
  },
  {
   "cell_type": "code",
   "execution_count": 28,
   "id": "aa8f393b-86b8-4c31-89f5-2710944273e4",
   "metadata": {},
   "outputs": [
    {
     "name": "stdout",
     "output_type": "stream",
     "text": [
      "Epoch 1/4\n",
      "\u001b[1m625/625\u001b[0m \u001b[32m━━━━━━━━━━━━━━━━━━━━\u001b[0m\u001b[37m\u001b[0m \u001b[1m53s\u001b[0m 80ms/step - accuracy: 0.7860 - loss: 0.4642 - val_accuracy: 0.8392 - val_loss: 0.4006\n",
      "Epoch 2/4\n",
      "\u001b[1m625/625\u001b[0m \u001b[32m━━━━━━━━━━━━━━━━━━━━\u001b[0m\u001b[37m\u001b[0m \u001b[1m51s\u001b[0m 82ms/step - accuracy: 0.7820 - loss: 0.4525 - val_accuracy: 0.8655 - val_loss: 0.3216\n",
      "Epoch 3/4\n",
      "\u001b[1m625/625\u001b[0m \u001b[32m━━━━━━━━━━━━━━━━━━━━\u001b[0m\u001b[37m\u001b[0m \u001b[1m52s\u001b[0m 83ms/step - accuracy: 0.8652 - loss: 0.3177 - val_accuracy: 0.8702 - val_loss: 0.2979\n",
      "Epoch 4/4\n",
      "\u001b[1m625/625\u001b[0m \u001b[32m━━━━━━━━━━━━━━━━━━━━\u001b[0m\u001b[37m\u001b[0m \u001b[1m52s\u001b[0m 84ms/step - accuracy: 0.8788 - loss: 0.2915 - val_accuracy: 0.8812 - val_loss: 0.2831\n"
     ]
    },
    {
     "data": {
      "image/png": "[encoded data removed]",
      "text/plain": [
       "<Figure size 640x480 with 1 Axes>"
      ]
     },
     "metadata": {},
     "output_type": "display_data"
    },
    {
     "name": "stdout",
     "output_type": "stream",
     "text": [
      "CPU times: total: 1min 13s\n",
      "Wall time: 3min 29s\n"
     ]
    }
   ],
   "source": [
    "%%time\n",
    "import keras\n",
    "import matplotlib.pyplot as plt\n",
    "history = model.fit(X_train, y_train, epochs=4, batch_size=64, validation_data=(X_test, y_test))\n",
    "plt.plot(history.history['val_accuracy'])\n",
    "plt.ylabel('validation accuracy')\n",
    "plt.xlabel('epoch')\n",
    "plt.show()"
   ]
  },
  {
   "cell_type": "code",
   "execution_count": 29,
   "id": "3105c31c-2a83-4281-ab97-34d15ae9fe53",
   "metadata": {},
   "outputs": [
    {
     "name": "stdout",
     "output_type": "stream",
     "text": [
      "\u001b[1m313/313\u001b[0m \u001b[32m━━━━━━━━━━━━━━━━━━━━\u001b[0m\u001b[37m\u001b[0m \u001b[1m7s\u001b[0m 20ms/step\n"
     ]
    },
    {
     "data": {
      "text/plain": [
       "array([1, 1, 1, ..., 0, 0, 0], dtype=int64)"
      ]
     },
     "execution_count": 29,
     "metadata": {},
     "output_type": "execute_result"
    }
   ],
   "source": [
    "y_pred = model.predict(X_test)\n",
    "y"
   ]
  },
  {
   "cell_type": "code",
   "execution_count": 30,
   "id": "fd8244d3-8b8b-494c-a065-587cceaeea81",
   "metadata": {},
   "outputs": [],
   "source": [
    "y_pred_binary = (y_pred >= 0.5).astype(int)"
   ]
  },
  {
   "cell_type": "code",
   "execution_count": 31,
   "id": "098420d7-d727-4740-8e80-941d38fa4972",
   "metadata": {},
   "outputs": [
    {
     "name": "stdout",
     "output_type": "stream",
     "text": [
      "Classification Report:\n",
      "               precision    recall  f1-score   support\n",
      "\n",
      "           0       0.90      0.86      0.88      4961\n",
      "           1       0.87      0.90      0.88      5039\n",
      "\n",
      "    accuracy                           0.88     10000\n",
      "   macro avg       0.88      0.88      0.88     10000\n",
      "weighted avg       0.88      0.88      0.88     10000\n",
      "\n"
     ]
    }
   ],
   "source": [
    "accuracy = accuracy_score(y_test, y_pred_binary)\n",
    "class_report = classification_report(y_test, y_pred_binary)\n",
    "print(\"Classification Report:\\n\",class_report)"
   ]
  },
  {
   "cell_type": "markdown",
   "id": "d69977c9-5403-4c36-a679-149d133422ad",
   "metadata": {},
   "source": [
    "### Generate the confusion matrix"
   ]
  },
  {
   "cell_type": "code",
   "execution_count": 32,
   "id": "a3dd6734-5c0f-4af7-b608-806e31b7cd36",
   "metadata": {},
   "outputs": [
    {
     "data": {
      "image/png": "[encoded data removed]",
      "text/plain": [
       "<Figure size 640x480 with 2 Axes>"
      ]
     },
     "metadata": {},
     "output_type": "display_data"
    }
   ],
   "source": [
    "from sklearn.metrics import ConfusionMatrixDisplay\n",
    "#generate the confusion matrix\n",
    "conf_matrix = confusion_matrix(y_test, y_pred_binary)\n",
    "disp = ConfusionMatrixDisplay(confusion_matrix=conf_matrix)\n",
    "disp.plot()\n",
    "plt.show()"
   ]
  },
  {
   "cell_type": "code",
   "execution_count": 33,
   "id": "82f9306d-1c1d-4512-acd7-b90f047eb64f",
   "metadata": {},
   "outputs": [
    {
     "name": "stdout",
     "output_type": "stream",
     "text": [
      "* Running on local URL:  http://127.0.0.1:7860\n",
      "\n",
      "To create a public link, set `share=True` in `launch()`.\n"
     ]
    },
    {
     "data": {
      "text/html": [
       "<div><iframe src=\"http://127.0.0.1:7860/\" width=\"100%\" height=\"500\" allow=\"autoplay; camera; microphone; clipboard-read; clipboard-write;\" frameborder=\"0\" allowfullscreen></iframe></div>"
      ],
      "text/plain": [
       "<IPython.core.display.HTML object>"
      ]
     },
     "metadata": {},
     "output_type": "display_data"
    },
    {
     "data": {
      "text/plain": []
     },
     "execution_count": 33,
     "metadata": {},
     "output_type": "execute_result"
    },
    {
     "name": "stdout",
     "output_type": "stream",
     "text": [
      "\u001b[1m1/1\u001b[0m \u001b[32m━━━━━━━━━━━━━━━━━━━━\u001b[0m\u001b[37m\u001b[0m \u001b[1m0s\u001b[0m 42ms/step\n",
      "\u001b[1m1/1\u001b[0m \u001b[32m━━━━━━━━━━━━━━━━━━━━\u001b[0m\u001b[37m\u001b[0m \u001b[1m0s\u001b[0m 40ms/step\n",
      "\u001b[1m1/1\u001b[0m \u001b[32m━━━━━━━━━━━━━━━━━━━━\u001b[0m\u001b[37m\u001b[0m \u001b[1m0s\u001b[0m 48ms/step\n",
      "\u001b[1m1/1\u001b[0m \u001b[32m━━━━━━━━━━━━━━━━━━━━\u001b[0m\u001b[37m\u001b[0m \u001b[1m0s\u001b[0m 36ms/step\n",
      "\u001b[1m1/1\u001b[0m \u001b[32m━━━━━━━━━━━━━━━━━━━━\u001b[0m\u001b[37m\u001b[0m \u001b[1m0s\u001b[0m 37ms/step\n",
      "\u001b[1m1/1\u001b[0m \u001b[32m━━━━━━━━━━━━━━━━━━━━\u001b[0m\u001b[37m\u001b[0m \u001b[1m0s\u001b[0m 35ms/step\n",
      "\u001b[1m1/1\u001b[0m \u001b[32m━━━━━━━━━━━━━━━━━━━━\u001b[0m\u001b[37m\u001b[0m \u001b[1m0s\u001b[0m 36ms/step\n",
      "\u001b[1m1/1\u001b[0m \u001b[32m━━━━━━━━━━━━━━━━━━━━\u001b[0m\u001b[37m\u001b[0m \u001b[1m0s\u001b[0m 38ms/step\n",
      "\u001b[1m1/1\u001b[0m \u001b[32m━━━━━━━━━━━━━━━━━━━━\u001b[0m\u001b[37m\u001b[0m \u001b[1m0s\u001b[0m 35ms/step\n",
      "\u001b[1m1/1\u001b[0m \u001b[32m━━━━━━━━━━━━━━━━━━━━\u001b[0m\u001b[37m\u001b[0m \u001b[1m0s\u001b[0m 40ms/step\n",
      "\u001b[1m1/1\u001b[0m \u001b[32m━━━━━━━━━━━━━━━━━━━━\u001b[0m\u001b[37m\u001b[0m \u001b[1m0s\u001b[0m 36ms/step\n",
      "\u001b[1m1/1\u001b[0m \u001b[32m━━━━━━━━━━━━━━━━━━━━\u001b[0m\u001b[37m\u001b[0m \u001b[1m0s\u001b[0m 36ms/step\n",
      "\u001b[1m1/1\u001b[0m \u001b[32m━━━━━━━━━━━━━━━━━━━━\u001b[0m\u001b[37m\u001b[0m \u001b[1m0s\u001b[0m 36ms/step\n",
      "\u001b[1m1/1\u001b[0m \u001b[32m━━━━━━━━━━━━━━━━━━━━\u001b[0m\u001b[37m\u001b[0m \u001b[1m0s\u001b[0m 36ms/step\n",
      "\u001b[1m1/1\u001b[0m \u001b[32m━━━━━━━━━━━━━━━━━━━━\u001b[0m\u001b[37m\u001b[0m \u001b[1m0s\u001b[0m 44ms/step\n"
     ]
    }
   ],
   "source": [
    "import numpy as np\n",
    "from tensorflow.keras.preprocessing.sequence import pad_sequences\n",
    "import gradio as gr\n",
    "max_length=100\n",
    "def custom_text_review(text):\n",
    "    #preprocess\n",
    "    tokens = data_preprocess(text)  # Use the function you defined earlier\n",
    "    if not tokens:  \n",
    "        return \"Neutral\", 0.5 \n",
    "    \n",
    "    sequence = [[word_index[word] for word in tokens if word in word_index]]\n",
    "    \n",
    "    #pad sequence\n",
    "    padded_sequence = pad_sequences(sequence, maxlen=max_length, padding=\"post\")\n",
    "    \n",
    "    #get prediction\n",
    "    prediction = model.predict(padded_sequence)[0][0]  # Extract single value\n",
    "\n",
    "    #convert probability to label & confidence\n",
    "    sentiment_label = \"Positive\" if prediction >= 0.5 else \"Negative\"\n",
    "    confidence = max(prediction, 1 - prediction) \n",
    "\n",
    "    return sentiment_label, confidence\n",
    "\n",
    "#launch simple web interface\n",
    "demo = gr.Interface(fn=custom_text_review, inputs=gr.Textbox(placeholder=\"Review\"), outputs=\"text\", title=\"Sentiment Analysis\")\n",
    "demo.launch()\n"
   ]
  }
 ],
 "metadata": {
  "kernelspec": {
   "display_name": "Python 3 (ipykernel)",
   "language": "python",
   "name": "python3"
  },
  "language_info": {
   "codemirror_mode": {
    "name": "ipython",
    "version": 3
   },
   "file_extension": ".py",
   "mimetype": "text/x-python",
   "name": "python",
   "nbconvert_exporter": "python",
   "pygments_lexer": "ipython3",
   "version": "3.11.7"
  }
 },
 "nbformat": 4,
 "nbformat_minor": 5
}
